{
 "cells": [
  {
   "cell_type": "code",
   "execution_count": 3,
   "metadata": {},
   "outputs": [],
   "source": [
    "import json\n",
    "import numpy as np\n",
    "import onnxruntime as ort\n",
    "from PIL import Image"
   ]
  },
  {
   "cell_type": "code",
   "execution_count": 10,
   "metadata": {},
   "outputs": [],
   "source": [
    "def preprocess(input_data):\n",
    "    # convert the input data into the float32 input\n",
    "    img_data = input_data.astype('float32')\n",
    "\n",
    "    #normalize\n",
    "    mean_vec = np.array([0.485, 0.456, 0.406])\n",
    "    stddev_vec = np.array([0.229, 0.224, 0.225])\n",
    "    norm_img_data = np.zeros(img_data.shape).astype('float32')\n",
    "    for i in range(img_data.shape[0]):\n",
    "        norm_img_data[i,:,:] = (img_data[i,:,:]/255 - mean_vec[i]) / stddev_vec[i]\n",
    "\n",
    "    #add batch channel\n",
    "    norm_img_data = norm_img_data.reshape(1, 3, 224, 224).astype('float32') \n",
    "    return norm_img_data"
   ]
  },
  {
   "cell_type": "code",
   "execution_count": 16,
   "metadata": {},
   "outputs": [
    {
     "name": "stdout",
     "output_type": "stream",
     "text": [
      "(1, 3, 224, 224)\n"
     ]
    }
   ],
   "source": [
    "image_path = input(\"Enter image path: \")\n",
    "image = Image.open(image_path).resize((224, 224))\n",
    "image_data = np.array(image).transpose(2, 0, 1).astype('float32')\n",
    "image_data = np.expand_dims(image_data, axis=0)\n",
    "image_data = preprocess(image_data)\n",
    "print(image_data.shape)"
   ]
  },
  {
   "cell_type": "code",
   "execution_count": 12,
   "metadata": {},
   "outputs": [],
   "source": [
    "onnx_path = 'resnet50v2/resnet50v2.onnx'\n",
    "session = ort.InferenceSession(onnx_path)"
   ]
  },
  {
   "cell_type": "code",
   "execution_count": 17,
   "metadata": {},
   "outputs": [],
   "source": [
    "input_name = session.get_inputs()[0].name\n",
    "output_name = session.get_outputs()[0].name\n",
    "result = session.run([output_name], {input_name: image_data})[0]"
   ]
  },
  {
   "cell_type": "code",
   "execution_count": 14,
   "metadata": {},
   "outputs": [],
   "source": [
    "def softmax(x):\n",
    "    e_x = np.exp(x - np.max(x))\n",
    "    return e_x / e_x.sum()"
   ]
  },
  {
   "cell_type": "code",
   "execution_count": 18,
   "metadata": {},
   "outputs": [
    {
     "name": "stdout",
     "output_type": "stream",
     "text": [
      "convertible 0.3483785390853882\n",
      "pickup truck 0.26876357197761536\n",
      "sports car 0.12649530172348022\n",
      "station wagon 0.07169000059366226\n",
      "car wheel 0.05167302116751671\n"
     ]
    }
   ],
   "source": [
    "p=softmax(result[0]).tolist()\n",
    "with open('imagenet-simple-labels.json') as f:\n",
    "    labels = json.load(f)\n",
    "    arr = np.array(p).argsort()[-5:][::-1]\n",
    "    for id in arr:\n",
    "        print(labels[id], p[id])"
   ]
  }
 ],
 "metadata": {
  "kernelspec": {
   "display_name": "env",
   "language": "python",
   "name": "python3"
  },
  "language_info": {
   "codemirror_mode": {
    "name": "ipython",
    "version": 3
   },
   "file_extension": ".py",
   "mimetype": "text/x-python",
   "name": "python",
   "nbconvert_exporter": "python",
   "pygments_lexer": "ipython3",
   "version": "3.10.12"
  }
 },
 "nbformat": 4,
 "nbformat_minor": 2
}
