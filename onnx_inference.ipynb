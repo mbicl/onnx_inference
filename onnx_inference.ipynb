{
 "cells": [
  {
   "cell_type": "code",
   "execution_count": 61,
   "metadata": {},
   "outputs": [
    {
     "name": "stdout",
     "output_type": "stream",
     "text": [
      "--2024-01-25 13:31:05--  https://s3.amazonaws.com/onnx-model-zoo/resnet/resnet50v2/resnet50v2.tar.gz\n",
      "Resolving s3.amazonaws.com (s3.amazonaws.com)... 52.217.107.70, 52.216.248.70, 52.217.4.126, ...\n",
      "Connecting to s3.amazonaws.com (s3.amazonaws.com)|52.217.107.70|:443... connected.\n",
      "HTTP request sent, awaiting response... 200 OK\n",
      "Length: 96452466 (92M) [application/x-gzip]\n",
      "Saving to: ‘resnet50v2.tar.gz’\n",
      "\n",
      "resnet50v2.tar.gz   100%[===================>]  91.98M  4.49MB/s    in 20s     \n",
      "\n",
      "2024-01-25 13:31:26 (4.60 MB/s) - ‘resnet50v2.tar.gz’ saved [96452466/96452466]\n",
      "\n",
      "--2024-01-25 13:31:26--  https://raw.githubusercontent.com/anishathalye/imagenet-simple-labels/master/imagenet-simple-labels.json\n",
      "Resolving raw.githubusercontent.com (raw.githubusercontent.com)... 185.199.110.133, 185.199.109.133, 185.199.111.133, ...\n",
      "Connecting to raw.githubusercontent.com (raw.githubusercontent.com)|185.199.110.133|:443... connected.\n",
      "HTTP request sent, awaiting response... 200 OK\n",
      "Length: 14209 (14K) [text/plain]\n",
      "Saving to: ‘imagenet-simple-labels.json’\n",
      "\n",
      "imagenet-simple-lab 100%[===================>]  13.88K  --.-KB/s    in 0.005s  \n",
      "\n",
      "2024-01-25 13:31:27 (2.88 MB/s) - ‘imagenet-simple-labels.json’ saved [14209/14209]\n",
      "\n",
      "resnet50v2/\n",
      "resnet50v2/._resnet50v2.onnx\n",
      "resnet50v2/resnet50v2.onnx\n",
      "resnet50v2/test_data_set_0/\n",
      "resnet50v2/test_data_set_1/\n",
      "resnet50v2/test_data_set_2/\n",
      "resnet50v2/test_data_set_2/._input_0.pb\n",
      "resnet50v2/test_data_set_2/input_0.pb\n",
      "resnet50v2/test_data_set_2/output_0.pb\n",
      "resnet50v2/test_data_set_1/._input_0.pb\n",
      "resnet50v2/test_data_set_1/input_0.pb\n",
      "resnet50v2/test_data_set_1/output_0.pb\n",
      "resnet50v2/test_data_set_0/._input_0.pb\n",
      "resnet50v2/test_data_set_0/input_0.pb\n",
      "resnet50v2/test_data_set_0/output_0.pb\n"
     ]
    }
   ],
   "source": [
    "!wget https://s3.amazonaws.com/onnx-model-zoo/resnet/resnet50v2/resnet50v2.tar.gz\n",
    "!wget https://raw.githubusercontent.com/anishathalye/imagenet-simple-labels/master/imagenet-simple-labels.json\n",
    "!tar -xvzf resnet50v2.tar.gz --warning=no-unknown-keyword"
   ]
  },
  {
   "cell_type": "code",
   "execution_count": 2,
   "metadata": {},
   "outputs": [],
   "source": [
    "import json\n",
    "import numpy as np\n",
    "import onnxruntime\n",
    "from PIL import Image\n"
   ]
  },
  {
   "cell_type": "code",
   "execution_count": 3,
   "metadata": {},
   "outputs": [],
   "source": [
    "def preprocess(input_data):\n",
    "    # convert the input data into the float32 input\n",
    "    img_data = input_data.astype('float32')\n",
    "\n",
    "    #normalize\n",
    "    mean_vec = np.array([0.485, 0.456, 0.406])\n",
    "    stddev_vec = np.array([0.229, 0.224, 0.225])\n",
    "    norm_img_data = np.zeros(img_data.shape).astype('float32')\n",
    "    for i in range(img_data.shape[0]):\n",
    "        norm_img_data[i,:,:] = (img_data[i,:,:]/255 - mean_vec[i]) / stddev_vec[i]\n",
    "\n",
    "    #add batch channel\n",
    "    norm_img_data = norm_img_data.reshape(1, 3, 224, 224).astype('float32') \n",
    "    return norm_img_data"
   ]
  },
  {
   "cell_type": "code",
   "execution_count": 4,
   "metadata": {},
   "outputs": [
    {
     "name": "stdout",
     "output_type": "stream",
     "text": [
      "(1, 3, 224, 224)\n"
     ]
    }
   ],
   "source": [
    "image = Image.open('car.jpg').resize((224, 224))\n",
    "image_data = np.array(image).transpose(2, 0, 1).astype('float32')\n",
    "image_data = np.expand_dims(image_data, axis=0)\n",
    "print(image_data.shape)"
   ]
  },
  {
   "cell_type": "code",
   "execution_count": 6,
   "metadata": {},
   "outputs": [],
   "source": [
    "onnx_path = 'resnet50v2/resnet50v2.onnx'\n",
    "session = onnxruntime.InferenceSession(onnx_path)"
   ]
  },
  {
   "cell_type": "code",
   "execution_count": 13,
   "metadata": {},
   "outputs": [],
   "source": [
    "input_name = session.get_inputs()[0].name\n",
    "output_name = session.get_outputs()[0].name\n",
    "result = session.run([output_name], {input_name: image_data})[0]"
   ]
  },
  {
   "cell_type": "code",
   "execution_count": 8,
   "metadata": {},
   "outputs": [],
   "source": [
    "def softmax(x):\n",
    "    e_x = np.exp(x - np.max(x))\n",
    "    return e_x / e_x.sum()"
   ]
  },
  {
   "cell_type": "code",
   "execution_count": 14,
   "metadata": {},
   "outputs": [
    {
     "name": "stdout",
     "output_type": "stream",
     "text": [
      "German Shepherd Dog 0.9648066759109497\n",
      "Australian Kelpie 0.008698190562427044\n",
      "Malinois 0.008583959192037582\n",
      "muzzle 0.0026328619569540024\n",
      "Cardigan Welsh Corgi 0.0014788524713367224\n"
     ]
    }
   ],
   "source": [
    "p=softmax(result[0]).tolist()\n",
    "with open('imagenet-simple-labels.json') as f:\n",
    "    labels = json.load(f)\n",
    "    arr = np.array(p).argsort()[-5:][::-1]\n",
    "    for id in arr:\n",
    "        print(labels[id], p[id])"
   ]
  }
 ],
 "metadata": {
  "kernelspec": {
   "display_name": "env",
   "language": "python",
   "name": "python3"
  },
  "language_info": {
   "codemirror_mode": {
    "name": "ipython",
    "version": 3
   },
   "file_extension": ".py",
   "mimetype": "text/x-python",
   "name": "python",
   "nbconvert_exporter": "python",
   "pygments_lexer": "ipython3",
   "version": "3.10.12"
  }
 },
 "nbformat": 4,
 "nbformat_minor": 2
}
